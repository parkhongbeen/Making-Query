{
 "cells": [
  {
   "cell_type": "code",
   "execution_count": 17,
   "metadata": {},
   "outputs": [
    {
     "data": {
      "text/plain": [
       "<django.db.models.manager.Manager at 0x10663e190>"
      ]
     },
     "execution_count": 17,
     "metadata": {},
     "output_type": "execute_result"
    }
   ],
   "source": [
    "Post.objects"
   ]
  },
  {
   "cell_type": "markdown",
   "metadata": {},
   "source": [
    "### 다양한 조회 요청 방법"
   ]
  },
  {
   "cell_type": "code",
   "execution_count": 18,
   "metadata": {},
   "outputs": [
    {
     "data": {
      "text/plain": [
       "<QuerySet [<Post: Post object (1)>, <Post: Post object (2)>, <Post: Post object (3)>, <Post: Post object (4)>, <Post: Post object (5)>, <Post: Post object (6)>]>"
      ]
     },
     "execution_count": 18,
     "metadata": {},
     "output_type": "execute_result"
    }
   ],
   "source": [
    "# all / 모든 데이터를 다 가져옴\n",
    "Post.objects.all()"
   ]
  },
  {
   "cell_type": "code",
   "execution_count": 21,
   "metadata": {},
   "outputs": [
    {
     "data": {
      "text/plain": [
       "<QuerySet [<Post: Post object (2)>]>"
      ]
     },
     "execution_count": 21,
     "metadata": {},
     "output_type": "execute_result"
    }
   ],
   "source": [
    "# filter / 특정 데이터를 필터링해서 가져옴 / 2개이상 들어갈 경우,두 조건을 and로 묶어줌\n",
    "Post.objects.filter(pk=2)"
   ]
  },
  {
   "cell_type": "code",
   "execution_count": 26,
   "metadata": {},
   "outputs": [
    {
     "data": {
      "text/plain": [
       "<QuerySet [<Post: Post object (2)>, <Post: Post object (3)>, <Post: Post object (4)>, <Post: Post object (5)>, <Post: Post object (6)>]>"
      ]
     },
     "execution_count": 26,
     "metadata": {},
     "output_type": "execute_result"
    }
   ],
   "source": [
    "# exclude() / 필터와 상반되는 개념으로 들어오는 인자를 제외한 나머지 값들을 가져옴\n",
    "Post.objects.exclude(content='내용')"
   ]
  },
  {
   "cell_type": "code",
   "execution_count": 33,
   "metadata": {},
   "outputs": [
    {
     "data": {
      "text/plain": [
       "<Post: Post object (4)>"
      ]
     },
     "execution_count": 33,
     "metadata": {},
     "output_type": "execute_result"
    }
   ],
   "source": [
    "# get() / 해당하는 데이터가 유일하게 존재해야 함, 0개이거나 2개 이상이면 에러발생\n",
    "Post.objects.get(pk=4)"
   ]
  },
  {
   "cell_type": "code",
   "execution_count": 34,
   "metadata": {},
   "outputs": [
    {
     "data": {
      "text/plain": [
       "<Post: Post object (1)>"
      ]
     },
     "execution_count": 34,
     "metadata": {},
     "output_type": "execute_result"
    }
   ],
   "source": [
    "# first() / 가장 첫번째 데이터를 가져옴\n",
    "Post.objects.first()"
   ]
  },
  {
   "cell_type": "code",
   "execution_count": 35,
   "metadata": {},
   "outputs": [
    {
     "data": {
      "text/plain": [
       "<Post: Post object (6)>"
      ]
     },
     "execution_count": 35,
     "metadata": {},
     "output_type": "execute_result"
    }
   ],
   "source": [
    "# last() / 가장 마지막 데이터를 가져옴\n",
    "Post.objects.last()"
   ]
  },
  {
   "cell_type": "code",
   "execution_count": 37,
   "metadata": {},
   "outputs": [],
   "source": [
    "# index,slice / python의 list와 같이 인덱싱 및 슬라이싱이 가능함\n",
    "Post.objects[index]\n",
    "Post.objects[start:stop:step]"
   ]
  },
  {
   "cell_type": "markdown",
   "metadata": {},
   "source": [
    "#### 조건을 통한 데이터 조회 방법\n",
    " - 숫자 / 날짜 / 시간 필드\n",
    "     - 필드명_lt = 조건값 : 필드명 < 조건값<br>\n",
    "         ex)Post.objects.filter(is_published__lt = date(1061,1,1)\n",
    "     - 필드명_lte = 조건값 : 필드명 <= 조건값\n",
    "     - 필드명_gt = 조건값 : 필드명 < 조건값\n",
    "     - 필드명_gte = 조건값 : 필드명 < 조건값     \n",
    " - 문자열 필드\n",
    "     - 필드명_startswith = 조건값 / 조건값을 통해 조건값으로 시작하는 데이터를 모두 가져옴\n",
    "     - 필드명_endswith = 조건값 / 조건값을 통해 조건값으로 끝나는 데이터를 모두 가져옴\n",
    "     - 필드명_contains = 조건값 / 조건값을 통해 조건값이 포함되는 데이터를 모두 가져옴\n",
    "     - 필드명_istartswith = 조건값 / startswith와 동일하지만 대소문자를 구분하지 않음\n",
    "     - 필드명_iendswith = 조건값 / endswith와 동일하지만 대소문자를 구분하지 않음\n",
    "     - 필드명_icontains = 조건값 / contains와 동일하지만 대소문자를 구분하지 않음\n",
    "     "
   ]
  },
  {
   "cell_type": "markdown",
   "metadata": {},
   "source": [
    "### 데이터 정렬\n",
    "    정렬 조건을 지정하는 방법으로는 2가지가 있습니다."
   ]
  },
  {
   "cell_type": "code",
   "execution_count": 39,
   "metadata": {},
   "outputs": [],
   "source": [
    "# 모델 클래스에서 지정\n",
    "from django.db import models\n",
    "\n",
    "class Post(models.Model):\n",
    "    title = models.CharField(max_length=30)\n",
    "    content = models.TextField()\n",
    "    is_published = models.BooleanField(default=False)\n",
    "    \n",
    "    class Meta:\n",
    "        ordering = ['id']\n",
    "        # 역순으로 지정\n",
    "        # ordering = ['-id']"
   ]
  },
  {
   "cell_type": "code",
   "execution_count": null,
   "metadata": {},
   "outputs": [],
   "source": [
    "# queryset에서 지정\n",
    "Post.objects.all().order_by('id')\n",
    "# 역순\n",
    "Post.objects.all().order_by('-id')"
   ]
  }
 ],
 "metadata": {
  "kernelspec": {
   "display_name": "Django Shell-Plus",
   "language": "python",
   "name": "django_extensions"
  },
  "language_info": {
   "codemirror_mode": {
    "name": "ipython",
    "version": 3
   },
   "file_extension": ".py",
   "mimetype": "text/x-python",
   "name": "python",
   "nbconvert_exporter": "python",
   "pygments_lexer": "ipython3",
   "version": "3.7.5"
  }
 },
 "nbformat": 4,
 "nbformat_minor": 4
}
